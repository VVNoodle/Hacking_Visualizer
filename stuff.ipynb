{
 "cells": [
  {
   "cell_type": "code",
   "execution_count": 1,
   "metadata": {},
   "outputs": [],
   "source": [
    "import requests"
   ]
  },
  {
   "cell_type": "code",
   "execution_count": 2,
   "metadata": {},
   "outputs": [],
   "source": [
    "import json"
   ]
  },
  {
   "cell_type": "code",
   "execution_count": 3,
   "metadata": {},
   "outputs": [],
   "source": [
    "data = requests.get(\"https://us-central1-cruzhacks.cloudfunctions.net/geoSearcher\")"
   ]
  },
  {
   "cell_type": "code",
   "execution_count": 4,
   "metadata": {},
   "outputs": [],
   "source": [
    "data = data.json()"
   ]
  },
  {
   "cell_type": "code",
   "execution_count": 5,
   "metadata": {},
   "outputs": [],
   "source": [
    "from pyspark.sql import SparkSession"
   ]
  },
  {
   "cell_type": "code",
   "execution_count": 6,
   "metadata": {},
   "outputs": [],
   "source": [
    "from pyspark import SparkConf, SparkContext, SQLContext\n",
    "\n",
    "conf = SparkConf().setAppName(\"stuff\").setMaster(\"local\")\n",
    "sc = SparkContext(conf=conf)\n",
    "sqlContext = SQLContext(sc)\n",
    "\n",
    "jsonRDD = sc.parallelize(data)\n",
    "spark = SparkSession.builder.appName('data_breaches').getOrCreate()\n",
    "df = spark.read.json(jsonRDD)"
   ]
  },
  {
   "cell_type": "code",
   "execution_count": 7,
   "metadata": {},
   "outputs": [
    {
     "name": "stdout",
     "output_type": "stream",
     "text": [
      "+--------------------+---------+--------------------+-----------------+------------------+--------------------+-----+---------------+---+\n",
      "|          BREACHTYPE|INSTANCES|               LABEL|              LAT|               LNG|                 POI|STATE|_corrupt_record| id|\n",
      "+--------------------+---------+--------------------+-----------------+------------------+--------------------+-----+---------------+---+\n",
      "|Unauthorized Acce...|     5000|[\"November\",\"OCR\"...|       37.5314761|      -122.2993416|San Mateo Medical...|   CA|           null|  1|\n",
      "|Unauthorized Acce...|      706|[\"Paper\",\"Films\",...|       38.9403808|-92.32773750000001|University Of Mis...|   MO|           null|  2|\n",
      "|Unauthorized Acce...|      586|[\"Paper\",\"Films\",...|       35.6078425|      -106.0408648|New Mexico Retire...|   NM|           null|  3|\n",
      "|Unauthorized Acce...|      831|[\"member\",\"entity...|       41.6557635|       -88.4320975|Gentle Dentistry ...|   NJ|           null|  4|\n",
      "|               Theft|     1310|[\"Paper\",\"Films\",...|        39.397889|        -76.751559|Anne Arundel Derm...|   MD|           null|  5|\n",
      "|Unauthorized Acce...|      667|[\"Paper\",\"Films\",...|         37.09024|        -95.712891|Southwestern Eye ...|   AZ|           null|  6|\n",
      "| Hacking/IT Incident|    13034|[\"Email\",\"employe...|       32.9006672|-97.31898629999999|MedSpring of Texa...|   TX|           null|  7|\n",
      "| Hacking/IT Incident|      679|[\"Email\",\"StatCar...|       35.9561502|       -83.9519534|  StatCare Group LLC|   MD|           null|  8|\n",
      "| Hacking/IT Incident|      500|[\"Network\",\"Serve...|       38.8474398|       -77.3009897|Family Physicians...|   VA|           null|  9|\n",
      "| Hacking/IT Incident|      790|[\"Email\",\"result\"...|41.77216869999999|       -77.9799322|Charles Cole Memo...|   PA|           null| 10|\n",
      "|               Theft|     1254|[\"Paper\",\"Films\",...|       42.5455165|-83.36161659999999|Associated Dermat...|   MT|           null| 11|\n",
      "|Unauthorized Acce...|      900|[\"Network\",\"Serve...|       37.7781114|      -122.4186929|San Francisco Dep...|   CA|           null| 12|\n",
      "|Unauthorized Acce...|     1030|[\"Paper\",\"Films\",...|        33.777569|      -118.1189428|VA Long Beach Hea...|   CA|           null| 13|\n",
      "|Unauthorized Acce...|     7582|[\"Email\",\"New\",\"E...|       42.3291794|-71.10673700000001|New England Bapti...|   MA|           null| 14|\n",
      "|               Theft|      607|[\"Laptop\",\"Portab...|        40.272795|       -111.698766|University of Uta...|   UT|           null| 15|\n",
      "|Unauthorized Acce...|      597|[\"SimplyWell\",\"co...|        41.264081|-96.05496049999999|          SimplyWell|   TX|           null| 16|\n",
      "|Unauthorized Acce...|     1357|[\"Electronic\",\"Me...|        39.088593|      -108.5527406|           Dino-Peds|   CO|           null| 17|\n",
      "| Hacking/IT Incident|      600|[\"Email\",\"employe...|       45.5321004|      -122.8812487|Care Partners Hos...|   OR|           null| 18|\n",
      "| Hacking/IT Incident|   566236|[\"Network\",\"Serve...|        35.093856|-89.86000969999999|           MSK Group|   TN|           null| 19|\n",
      "| Hacking/IT Incident|    10000|[\"Network\",\"Serve...|       45.4184588|      -122.7368728|Elmcroft Senior L...|   TX|           null| 20|\n",
      "+--------------------+---------+--------------------+-----------------+------------------+--------------------+-----+---------------+---+\n",
      "only showing top 20 rows\n",
      "\n"
     ]
    }
   ],
   "source": [
    "df.show()"
   ]
  },
  {
   "cell_type": "code",
   "execution_count": null,
   "metadata": {},
   "outputs": [],
   "source": []
  },
  {
   "cell_type": "code",
   "execution_count": null,
   "metadata": {},
   "outputs": [],
   "source": []
  },
  {
   "cell_type": "code",
   "execution_count": null,
   "metadata": {},
   "outputs": [],
   "source": []
  }
 ],
 "metadata": {
  "kernelspec": {
   "display_name": "Python 3",
   "language": "python",
   "name": "python3"
  },
  "language_info": {
   "codemirror_mode": {
    "name": "ipython",
    "version": 3
   },
   "file_extension": ".py",
   "mimetype": "text/x-python",
   "name": "python",
   "nbconvert_exporter": "python",
   "pygments_lexer": "ipython3",
   "version": "3.6.7"
  }
 },
 "nbformat": 4,
 "nbformat_minor": 2
}
